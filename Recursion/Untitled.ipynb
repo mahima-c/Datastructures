{
 "cells": [
  {
   "cell_type": "code",
   "execution_count": 1,
   "metadata": {},
   "outputs": [],
   "source": [
    "def geo_sum(k):\n",
    "    if k==0:\n",
    "        return 1\n",
    "    small=geo_sum(k-1)\n",
    "    ans=1/(2**k)+small\n",
    "    return ans"
   ]
  },
  {
   "cell_type": "code",
   "execution_count": 4,
   "metadata": {},
   "outputs": [
    {
     "data": {
      "text/plain": [
       "1.9375"
      ]
     },
     "execution_count": 4,
     "metadata": {},
     "output_type": "execute_result"
    }
   ],
   "source": [
    "k=4\n",
    "geo_sum(k)"
   ]
  },
  {
   "cell_type": "markdown",
   "metadata": {},
   "source": [
    "# check palidrome"
   ]
  },
  {
   "cell_type": "code",
   "execution_count": 12,
   "metadata": {},
   "outputs": [],
   "source": [
    "def palindrome(s):\n",
    "    size=len(s)\n",
    "    \n",
    "    if size==0 or size==1:return True\n",
    "    if s[0]!=s[-1]:\n",
    "        return False\n",
    "    return palindrome(s[1:-1])"
   ]
  },
  {
   "cell_type": "code",
   "execution_count": 16,
   "metadata": {},
   "outputs": [
    {
     "name": "stdout",
     "output_type": "stream",
     "text": [
      "False\n"
     ]
    }
   ],
   "source": [
    "s='racr'\n",
    "print(palindrome(s))"
   ]
  },
  {
   "cell_type": "code",
   "execution_count": 29,
   "metadata": {},
   "outputs": [],
   "source": [
    "def palindromeB(s,si,ei):\n",
    "    if si<=ei:\n",
    "        return True\n",
    "    if s[si]!=s[ei]:\n",
    "        return False\n",
    "    return palindromeB(s,si+1,ei-1)\n",
    "    "
   ]
  },
  {
   "cell_type": "code",
   "execution_count": 33,
   "metadata": {},
   "outputs": [
    {
     "name": "stdout",
     "output_type": "stream",
     "text": [
      "True\n"
     ]
    }
   ],
   "source": [
    "s='rav8var'\n",
    "print(palindromeB(s,0,3))"
   ]
  },
  {
   "cell_type": "markdown",
   "metadata": {},
   "source": [
    "# sum of digit"
   ]
  },
  {
   "cell_type": "code",
   "execution_count": 34,
   "metadata": {},
   "outputs": [],
   "source": [
    "def sum(s):\n",
    "    l=len(s)\n",
    "    if l==0:\n",
    "        return 0\n",
    "    i=int(s[0])\n",
    "    small=sum(s[1:])\n",
    "    ans=i+small\n",
    "    return ans"
   ]
  },
  {
   "cell_type": "code",
   "execution_count": 40,
   "metadata": {},
   "outputs": [
    {
     "data": {
      "text/plain": [
       "0"
      ]
     },
     "execution_count": 40,
     "metadata": {},
     "output_type": "execute_result"
    }
   ],
   "source": [
    "\n",
    "sum('')"
   ]
  },
  {
   "cell_type": "code",
   "execution_count": 41,
   "metadata": {},
   "outputs": [],
   "source": [
    "def sumofDigits(n):\n",
    "    if n == 0:\n",
    "        return 0\n",
    "    smallAns = sumofDigits(n // 10)\n",
    "    return smallAns + n%10"
   ]
  },
  {
   "cell_type": "code",
   "execution_count": 42,
   "metadata": {},
   "outputs": [],
   "source": [
    "def Multiplication(m,n):\n",
    "    if n==0:\n",
    "        return 0\n",
    "    small=Multiplication(m,n-1)\n",
    "    return m+small"
   ]
  },
  {
   "cell_type": "code",
   "execution_count": 1,
   "metadata": {},
   "outputs": [],
   "source": [
    "def product( m , n ): \n",
    "    if m < n: \n",
    "        return product(n, m) \n",
    " \n",
    "    elif n != 0: \n",
    "        return (m + product(m, n - 1)) \n",
    "    else: \n",
    "        return 0\n",
    "\n"
   ]
  },
  {
   "cell_type": "code",
   "execution_count": null,
   "metadata": {},
   "outputs": [],
   "source": [
    "from sys import setrecursionlimit\n",
    "setrecursionlimit(11000)\n",
    "# m=int(input())\n",
    "# n=int(input())\n",
    "print(product(5,6))"
   ]
  }
 ],
 "metadata": {
  "kernelspec": {
   "display_name": "Python 3",
   "language": "python",
   "name": "python3"
  },
  "language_info": {
   "codemirror_mode": {
    "name": "ipython",
    "version": 3
   },
   "file_extension": ".py",
   "mimetype": "text/x-python",
   "name": "python",
   "nbconvert_exporter": "python",
   "pygments_lexer": "ipython3",
   "version": "3.7.4"
  }
 },
 "nbformat": 4,
 "nbformat_minor": 2
}
