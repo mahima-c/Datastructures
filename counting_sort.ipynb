{
  "nbformat": 4,
  "nbformat_minor": 0,
  "metadata": {
    "colab": {
      "name": "counting sort.ipynb",
      "provenance": [],
      "authorship_tag": "ABX9TyMDEgNzyAHs+RWSHPUHBwhX",
      "include_colab_link": true
    },
    "kernelspec": {
      "name": "python3",
      "display_name": "Python 3"
    },
    "language_info": {
      "name": "python"
    }
  },
  "cells": [
    {
      "cell_type": "markdown",
      "metadata": {
        "id": "view-in-github",
        "colab_type": "text"
      },
      "source": [
        "<a href=\"https://colab.research.google.com/github/mahima-c/Datastructures/blob/master/counting_sort.ipynb\" target=\"_parent\"><img src=\"https://colab.research.google.com/assets/colab-badge.svg\" alt=\"Open In Colab\"/></a>"
      ]
    },
    {
      "cell_type": "code",
      "metadata": {
        "id": "W9WXbsM-O_Ti"
      },
      "source": [
        "# counting sort\n",
        "# large no ele but range is less then use counting sort\n",
        "# O(n+k) where n is the number of elements in input array and k is the range of input. \n",
        "# Auxiliary Space: O(n+k)\n",
        "\n",
        "def countingSort(min,max,arr):\n",
        "  range=max-min+1\n",
        "  farr[0]*(range)\n",
        "  #  make freq arr\n",
        "  for ele in arr:\n",
        "    farr[ele-min]+=1#-o(n)\n",
        "\n",
        "  # prefix freq\n",
        "  for i in range(1,len(farr)):\n",
        "    farr[i]=farr[i]+farr[i-1]#-o(n)\n",
        "\n",
        "  # now traver from end for stable sort\n",
        "  ans=[None]*(len(arr))\n",
        "  for i in range(len(arr)-1,-1,-1):\n",
        "    val=arr[i]\n",
        "    pos=farr[val-min]\n",
        "    idx=pos-1\n",
        "    ans[idx]=val\n",
        "    farr[val-min]-=1#----o(n)\n",
        "\n",
        "  for i in range(len(arr)):\n",
        "    arr[i]=ans[i]\n",
        "\n",
        "\n"
      ],
      "execution_count": null,
      "outputs": []
    }
  ]
}