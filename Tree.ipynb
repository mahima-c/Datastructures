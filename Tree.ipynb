{
  "nbformat": 4,
  "nbformat_minor": 0,
  "metadata": {
    "colab": {
      "name": "Tree.ipynb",
      "provenance": [],
      "authorship_tag": "ABX9TyOGPY2ZTbXz7x0pqmnatUR0",
      "include_colab_link": true
    },
    "kernelspec": {
      "name": "python3",
      "display_name": "Python 3"
    }
  },
  "cells": [
    {
      "cell_type": "markdown",
      "metadata": {
        "id": "view-in-github",
        "colab_type": "text"
      },
      "source": [
        "<a href=\"https://colab.research.google.com/github/mahima-c/Datastructures/blob/master/Tree.ipynb\" target=\"_parent\"><img src=\"https://colab.research.google.com/assets/colab-badge.svg\" alt=\"Open In Colab\"/></a>"
      ]
    },
    {
      "cell_type": "code",
      "metadata": {
        "colab": {
          "base_uri": "https://localhost:8080/"
        },
        "id": "olhQvms6Z6tT",
        "outputId": "0ede3444-059c-4d5d-f4f8-eec63bb8e54a"
      },
      "source": [
        "class Treenode:\r\n",
        "\r\n",
        "  def __init__(self,data):\r\n",
        "    self.data=data\r\n",
        "    self.children=[]\r\n",
        "    self.parent=None\r\n",
        "  def add_child(self,child):\r\n",
        "    child.parent=self\r\n",
        "    self.children.append(child)\r\n",
        "\r\n",
        "  def get_level(self):\r\n",
        "    level=0\r\n",
        "    p=self.parent\r\n",
        "    while p:\r\n",
        "      level=level+1\r\n",
        "      p=p.parent\r\n",
        "    return level   \r\n",
        "      \r\n",
        "\r\n",
        "\r\n",
        "\r\n",
        "  def print_tree(self):\r\n",
        "    space=' ' * (self.get_level()*4)\r\n",
        "    prefix=space+ \"|__\" if self.parent else \"\"\r\n",
        "    print(prefix+self.data)\r\n",
        "    # if we are at leaf node then they don't have children give errror\r\n",
        "    if len(self.children) >0:\r\n",
        "      for child in self.children:\r\n",
        "        child.print_tree()\r\n",
        "\r\n",
        "\r\n",
        "\r\n",
        "def build_Tree():\r\n",
        "  root=Treenode(\"Eletronics\")\r\n",
        "\r\n",
        "  laptop=Treenode(\"Laptop\")\r\n",
        "  laptop.add_child(Treenode(\"mouse\"))\r\n",
        "  laptop.add_child(Treenode(\"keyboard\"))\r\n",
        "  laptop.add_child(Treenode(\"cpu\"))\r\n",
        "\r\n",
        "  mobile=Treenode(\"mobile\")\r\n",
        "  mobile.add_child(Treenode(\"mouse1\"))\r\n",
        "  mobile.add_child(Treenode(\"keyboard2\"))\r\n",
        "  mobile.add_child(Treenode(\"cpu3\"))\r\n",
        "\r\n",
        "  root.add_child(laptop)   \r\n",
        "  root.add_child(mobile)   \r\n",
        "\r\n",
        "  return root \r\n",
        "\r\n",
        "\r\n",
        "if __name__==\"__main__\":\r\n",
        "  root=build_Tree()\r\n",
        "  root.print_tree()\r\n",
        "  # print(root)\r\n"
      ],
      "execution_count": 18,
      "outputs": [
        {
          "output_type": "stream",
          "text": [
            "Eletronics\n",
            "    |__Laptop\n",
            "        |__mouse\n",
            "        |__keyboard\n",
            "        |__cpu\n",
            "    |__mobile\n",
            "        |__mouse1\n",
            "        |__keyboard2\n",
            "        |__cpu3\n"
          ],
          "name": "stdout"
        }
      ]
    }
  ]
}