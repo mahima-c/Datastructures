{
  "nbformat": 4,
  "nbformat_minor": 0,
  "metadata": {
    "colab": {
      "name": "queuemodule.ipynb",
      "provenance": [],
      "collapsed_sections": [],
      "authorship_tag": "ABX9TyOdrA5nkRRzWdz5lTk+7pvL",
      "include_colab_link": true
    },
    "kernelspec": {
      "name": "python3",
      "display_name": "Python 3"
    },
    "language_info": {
      "name": "python"
    }
  },
  "cells": [
    {
      "cell_type": "markdown",
      "metadata": {
        "id": "view-in-github",
        "colab_type": "text"
      },
      "source": [
        "<a href=\"https://colab.research.google.com/github/mahima-c/Datastructures/blob/master/queuemodule.ipynb\" target=\"_parent\"><img src=\"https://colab.research.google.com/assets/colab-badge.svg\" alt=\"Open In Colab\"/></a>"
      ]
    },
    {
      "cell_type": "code",
      "metadata": {
        "colab": {
          "base_uri": "https://localhost:8080/"
        },
        "id": "Y5wu8mIglYiD",
        "outputId": "8fecb3ae-b1ca-44e8-cc01-7b24b72425d7"
      },
      "source": [
        "from collections import deque\n",
        " \n",
        "# fifo queue \n",
        "customQueue=deque(maxlen=3)\n",
        "customQueue.append(1)\n",
        "customQueue.append(2)\n",
        "customQueue.append(3)\n",
        "# it override when maxlen cross\n",
        "customQueue.append(5)\n",
        "\n",
        "\n",
        "\n",
        "\n",
        "print(customQueue)\n",
        "print(customQueue.popleft())\n",
        "print(customQueue)\n",
        "print(customQueue.clear())"
      ],
      "execution_count": null,
      "outputs": [
        {
          "output_type": "stream",
          "text": [
            "deque([2, 3, 5], maxlen=3)\n",
            "2\n",
            "deque([3, 5], maxlen=3)\n",
            "None\n"
          ],
          "name": "stdout"
        }
      ]
    },
    {
      "cell_type": "code",
      "metadata": {
        "colab": {
          "base_uri": "https://localhost:8080/"
        },
        "id": "gDQ3MKkuUuxr",
        "outputId": "753e3348-9fb5-4c10-b6e2-02ea59ada0a7"
      },
      "source": [
        "\n",
        "import queue as q\n",
        "\n",
        "customQueue = q.Queue(maxsize=3)\n",
        "print(customQueue.empty())\n",
        "customQueue.put(1)\n",
        "customQueue.put(2)\n",
        "customQueue.put(3)\n",
        "print(customQueue.full())\n",
        "print(customQueue.get())\n",
        "print(customQueue.qsize())\n"
      ],
      "execution_count": null,
      "outputs": [
        {
          "output_type": "stream",
          "text": [
            "True\n",
            "True\n",
            "1\n",
            "2\n"
          ],
          "name": "stdout"
        }
      ]
    },
    {
      "cell_type": "code",
      "metadata": {
        "colab": {
          "base_uri": "https://localhost:8080/"
        },
        "id": "c5fA25zrXKQ-",
        "outputId": "5ecb86ca-bd6b-40d6-e831-eb4bfafc7cfb"
      },
      "source": [
        "# How to use multiprocessing.Queue as a FIFO queue:\n",
        "\n",
        "from multiprocessing import Queue\n",
        "\n",
        "customQueue = Queue(maxsize= 3)\n",
        "customQueue.put(1)\n",
        "print(customQueue.get())"
      ],
      "execution_count": null,
      "outputs": [
        {
          "output_type": "stream",
          "text": [
            "1\n"
          ],
          "name": "stdout"
        }
      ]
    },
    {
      "cell_type": "code",
      "metadata": {
        "id": "K-G7TEacUCWY"
      },
      "source": [
        "# three in one\n",
        "# a single list to implement three stack\n",
        "# question1\n",
        "class MultiStack:\n",
        "  def __init__(self,stacksize):\n",
        "    self.numberstacks=3\n",
        "    self.customList=[0]*(self.numberstacks*stacksize)\n",
        "    # size of each stack\n",
        "    self.size=[0]*self.numberstacks\n",
        "    self.stacksize=stacksize\n",
        "     \n",
        "  def isFull(self,stacknum):\n",
        "    if self.size[stacknum]==self.stacksize:\n",
        "      return True\n",
        "    else:\n",
        "      return False\n",
        "\n",
        "\n",
        "  def isEmpty(self,stacknum):\n",
        "    if self.size[stacknum]==0:\n",
        "      return True\n",
        "    return False\n",
        "\n",
        "  def indexOfTop(self,stacknum):\n",
        "    return self.size[stacknum]+(self.stacksize*stacknum)-1\n",
        "  \n",
        "  def push(self,ele,stacknum):\n",
        "    if self.isFull(stacknum):\n",
        "      return \"stack is full\"\n",
        "    self.size[stacknum]+=1\n",
        "    indexoftop=self.indexOfTop(stacknum)\n",
        "    self.customList[indexoftop]=ele\n",
        "\n",
        "  def pop(self,stacknum):\n",
        "    if self.isEmpty(stacknum):\n",
        "      return \"stack is empty\"\n",
        "    value=self.customList[self.indexOfTop(stacknum)] \n",
        "    self.customList[self.indexOfTop(stacknum)]=0 \n",
        "    self.size[stacknum]-=1\n",
        "    return value\n",
        "\n",
        "  def peek(self,stacknum):\n",
        "    if self.isEmpty(stacknum):\n",
        "      return \"stack is empty\"\n",
        "    value=self.customList[self.indexOfTop(stacknum)] \n",
        "    return value\n",
        "\n",
        "\n",
        "\n"
      ],
      "execution_count": null,
      "outputs": []
    },
    {
      "cell_type": "code",
      "metadata": {
        "colab": {
          "base_uri": "https://localhost:8080/"
        },
        "id": "AVhHhtX0bM-L",
        "outputId": "6f82acc6-6c80-4b6d-e0f9-8ce8d3db2b8c"
      },
      "source": [
        "customstack=MultiStack(6)\n",
        "print(customstack.isFull(0))\n",
        "print(customstack.isEmpty(1))\n",
        "customstack.push(1,0)\n",
        "customstack.push(2,1)\n",
        "print(customstack.peek(1))"
      ],
      "execution_count": null,
      "outputs": [
        {
          "output_type": "stream",
          "text": [
            "False\n",
            "True\n",
            "2\n"
          ],
          "name": "stdout"
        }
      ]
    },
    {
      "cell_type": "code",
      "metadata": {
        "id": "1hleqjf7dJkM"
      },
      "source": [
        "# question2\n",
        "# min fuction--(1)\n",
        "class Node:\n",
        "  def __init__(self,value=None,next=None):\n",
        "    self.value=value\n",
        "    self.next=next\n",
        "\n",
        "  def __str__(self):\n",
        "    string=str(self.value)\n",
        "    if self.next:\n",
        "      string+=\",\"+str(self.next)\n",
        "      return string\n",
        "\n",
        "class Stack:\n",
        "  def __init__(self):\n",
        "    self.top=None\n",
        "    self.minNode=None\n",
        "\n",
        "  def min(self):\n",
        "    if not self.minNode:\n",
        "      return None\n",
        "    return self.minNode.value\n",
        "\n",
        "  def push(self,item):\n",
        "    if self.minNode and (self.minNode.value<item):  \n",
        "      self.minNode=Node(value=self.minNode.value,next=self.minNode) \n",
        "    else:\n",
        "      self.minNode=Node(value=item,next=self.minNode) \n",
        "    self.top=Node(value=item,next=self.top)   \n",
        "\n",
        "  def pop(self):\n",
        "    if not self.top:\n",
        "      return None\n",
        "    self.minNode=self.minNode.next\n",
        "    item=self.top.value\n",
        "    self.top=self.top.next\n",
        "    retrn item  \n",
        "\n"
      ],
      "execution_count": 1,
      "outputs": []
    },
    {
      "cell_type": "code",
      "metadata": {
        "id": "iDnmbhE6z4nK"
      },
      "source": [
        "# implement queue using two stack\n",
        "class stack:\n",
        "  def __init__(self):\n",
        "    self.list=[]\n",
        "\n",
        "  def __len__(self):\n",
        "    return len(self.list)\n",
        "\n",
        "  def push(self,item):\n",
        "    self.list.append(item) \n",
        "\n",
        "  def pop(self):\n",
        "    if len(self.list)==0:\n",
        "      return None\n",
        "    return self.list.pop()    \n",
        "\n",
        "class Queueviastack():\n",
        "  def __init__(self):\n",
        "    self.instack=stack()\n",
        "    self.outstack=stack()\n",
        "\n",
        "  def enqueue(self,item):\n",
        "    self.instack.push(item)  \n",
        "\n",
        "  def dequeue(self):\n",
        "    while len(self.instack):\n",
        "      self.outstack.push(self.instack.pop())  \n",
        "    item=self.outstack.pop()\n",
        "    while len(self.outstack):\n",
        "      self.instack.push(self.outstack.pop())  \n",
        "    return item  "
      ],
      "execution_count": 5,
      "outputs": []
    },
    {
      "cell_type": "code",
      "metadata": {
        "colab": {
          "base_uri": "https://localhost:8080/"
        },
        "id": "g1nIkEA82dC-",
        "outputId": "cc7007cf-2da9-47e9-a212-3b8a06209161"
      },
      "source": [
        "customQueue=Queueviastack()\n",
        "customQueue.enqueue(2)\n",
        "customQueue.enqueue(4)\n",
        "customQueue.enqueue(24)\n",
        "customQueue.enqueue(23)\n",
        "print(customQueue.dequeue())"
      ],
      "execution_count": 6,
      "outputs": [
        {
          "output_type": "stream",
          "text": [
            "2\n"
          ],
          "name": "stdout"
        }
      ]
    }
  ]
}