{
  "nbformat": 4,
  "nbformat_minor": 0,
  "metadata": {
    "colab": {
      "name": "binanrytree.ipynb",
      "provenance": [],
      "collapsed_sections": [],
      "authorship_tag": "ABX9TyNlblvsKhdqf3Emq0BbpI1x",
      "include_colab_link": true
    },
    "kernelspec": {
      "name": "python3",
      "display_name": "Python 3"
    },
    "language_info": {
      "name": "python"
    }
  },
  "cells": [
    {
      "cell_type": "markdown",
      "metadata": {
        "id": "view-in-github",
        "colab_type": "text"
      },
      "source": [
        "<a href=\"https://colab.research.google.com/github/mahima-c/Datastructures/blob/master/binanrytree.ipynb\" target=\"_parent\"><img src=\"https://colab.research.google.com/assets/colab-badge.svg\" alt=\"Open In Colab\"/></a>"
      ]
    },
    {
      "cell_type": "code",
      "metadata": {
        "id": "LaV9OnOgyhMv"
      },
      "source": [
        "class queue:\n",
        "  def __init__(self):\n",
        "    self.items=[]\n",
        "\n",
        "  def enqueue(self,item):\n",
        "    self.items.insert(0,item)\n",
        "\n",
        "  def dequeue(self):\n",
        "    if not self.is_empty():\n",
        "      return self.items.pop()\n",
        "  def is_empty(self):\n",
        "    return len(self.items)==0\n",
        "\n",
        "  def peek(self):\n",
        "    if not self.is_empty():\n",
        "      return self.items[-1].value\n",
        "\n",
        "  def __len__(self):\n",
        "    return self.size()\n",
        "\n",
        "  def size(self):\n",
        "    return len(self.items)\n",
        "\n",
        "\n"
      ],
      "execution_count": 44,
      "outputs": []
    },
    {
      "cell_type": "code",
      "metadata": {
        "colab": {
          "base_uri": "https://localhost:8080/"
        },
        "id": "AgME6m2k8En3",
        "outputId": "1c3e50e9-1fb2-4488-fc41-d45e5535aa7c"
      },
      "source": [
        "# binary tree using linked list\n",
        "\n",
        "class TreeNode:\n",
        "  def __init__(self,data):\n",
        "    self.data=data\n",
        "    self.leftchild=None\n",
        "    self.rightchild=None\n",
        "\n",
        "newbt=TreeNode(\"Drinks\")    \n",
        "leftchild=TreeNode(\"hot\")\n",
        "rightchild=TreeNode(\"cold\")\n",
        "\n",
        "\n",
        "newbt.leftchild=leftchild\n",
        "# newbt.rightchild=rightchild\n",
        "leftchild.leftchild=TreeNode(\"a\")\n",
        "leftchild.rightchild=TreeNode(\"b\")\n",
        "rightchild.leftchild=TreeNode(\"c\")\n",
        "\n",
        "\n",
        "# root node--->leftchild subtree--->rightsubtree\n",
        "def preOrderTraversal(rootnode):\n",
        "  if not rootnode:\n",
        "    return\n",
        "  print(rootnode.data)\n",
        "  preOrderTraversal(rootnode.leftchild) \n",
        "  preOrderTraversal(rootnode.rightchild) \n",
        "\n",
        "preOrderTraversal(newbt)  \n",
        "\n",
        "# leftsubtree--->rootnode----->rightnode subtree\n",
        "def inOrderTraversal(rootnode):\n",
        "  if not rootnode:\n",
        "    return\n",
        "  inOrderTraversal(rootnode.leftchild)\n",
        "  print(rootnode.data)\n",
        "  inOrderTraversal(rootnode.rightchild)  \n",
        "\n",
        "inOrderTraversal(newbt)   \n",
        "\n",
        "# leftsubtree--->rightsubtree--->rootnode\n",
        "def postOrderTraversal(rootnode):\n",
        "  if not rootnode:\n",
        "    return\n",
        "  postOrderTraversal(rootnode.leftchild)  #---o(n/2)\n",
        "  postOrderTraversal(rootnode.rightchild)\n",
        "  print(rootnode.data)\n",
        "\n",
        "postOrderTraversal(newbt)   \n",
        "\n",
        "# from collections import deque\n",
        "\n",
        "def levelOrderTraversal(rootnode):\n",
        "  if not rootnode:\n",
        "    return\n",
        "  else:\n",
        "    q=queue()\n",
        "    q.enqueue(rootnode)\n",
        "    \n",
        "    while not(q.is_empty()):\n",
        "      root=q.dequeue()\n",
        "      print(root.data)\n",
        "      if root.leftchild:\n",
        "        q.enqueue(root.leftchild)\n",
        "      if root.rightchild:\n",
        "        q.enqueue(root.rightchild)  \n",
        "\n",
        "\n",
        "\n",
        "print(\"__________\")\n",
        "levelOrderTraversal(newbt)   \n",
        "\n"
      ],
      "execution_count": 43,
      "outputs": [
        {
          "output_type": "stream",
          "text": [
            "Drinks\n",
            "hot\n",
            "a\n",
            "b\n",
            "a\n",
            "hot\n",
            "b\n",
            "Drinks\n",
            "a\n",
            "b\n",
            "hot\n",
            "Drinks\n",
            "__________\n",
            "Drinks\n",
            "hot\n",
            "a\n",
            "b\n"
          ],
          "name": "stdout"
        }
      ]
    },
    {
      "cell_type": "code",
      "metadata": {
        "id": "ah-2qjQX8w4t"
      },
      "source": [
        "# search in binanry tree\n",
        "# o(n)\n",
        "# s(n)-->custom queue\n",
        "def searchNode(rootnode,node):\n",
        "  # using levelorder traversal\n",
        "  if not rootnode:\n",
        "    print(\"the BT is not exist\")\n",
        "  else:\n",
        "    q=queue()\n",
        "    q.enqueue(rootnode)\n",
        "\n",
        "    while not (q.is_empty()):\n",
        "      root=q.dequeue()\n",
        "      if root.data==node.data:\n",
        "        return (\"node is present\")\n",
        "      if root.leftchild:\n",
        "        q.enqueue(root.leftchild)\n",
        "      if root.rightchild:\n",
        "        q.enqueue(root.rightchild)\n",
        "    return \"not_found\""
      ],
      "execution_count": null,
      "outputs": []
    },
    {
      "cell_type": "code",
      "metadata": {
        "colab": {
          "base_uri": "https://localhost:8080/",
          "height": 35
        },
        "id": "YPZWuvrGXJlp",
        "outputId": "eb4621d1-824a-41d7-9a33-a1ec0370369c"
      },
      "source": [
        "leftchild.data"
      ],
      "execution_count": null,
      "outputs": [
        {
          "output_type": "execute_result",
          "data": {
            "application/vnd.google.colaboratory.intrinsic+json": {
              "type": "string"
            },
            "text/plain": [
              "'hot'"
            ]
          },
          "metadata": {
            "tags": []
          },
          "execution_count": 21
        }
      ]
    },
    {
      "cell_type": "code",
      "metadata": {
        "colab": {
          "base_uri": "https://localhost:8080/",
          "height": 35
        },
        "id": "6uIEnXRJWziD",
        "outputId": "b0379695-0924-41f1-c3d5-34fcb45ab7a7"
      },
      "source": [
        "searchNode(newbt,leftchild)"
      ],
      "execution_count": null,
      "outputs": [
        {
          "output_type": "execute_result",
          "data": {
            "application/vnd.google.colaboratory.intrinsic+json": {
              "type": "string"
            },
            "text/plain": [
              "'node is present'"
            ]
          },
          "metadata": {
            "tags": []
          },
          "execution_count": 25
        }
      ]
    },
    {
      "cell_type": "code",
      "metadata": {
        "colab": {
          "base_uri": "https://localhost:8080/"
        },
        "id": "AfMv6NBsZ66t",
        "outputId": "3bc00380-99d9-4b56-ac0e-e67d33557351"
      },
      "source": [
        "# insertion of node\n",
        "def insertNode(rootnode,newnode):\n",
        "  # when rootnode is not exist\n",
        "  if not rootnode:\n",
        "    rootnode=newnode\n",
        "  else:\n",
        "      # when rootnode is exist\n",
        "      # levelorder traversal and find first vacand place\n",
        "      q=queue()\n",
        "      q.enqueue(rootnode)\n",
        "      while not (q.is_empty()):\n",
        "        root=q.dequeue()\n",
        "\n",
        "        if root.leftchild is not None:\n",
        "          q.enqueue(root.leftchild)\n",
        "        else:\n",
        "          root.leftchild=newnode\n",
        "          return (\"Success inserted\")\n",
        "\n",
        "        if root.rightchild is not None:\n",
        "          q.enqueue(root.rightchild)\n",
        "        else:\n",
        "          root.rightchild=newnode\n",
        "          return (\"Success inserted\")\n",
        "\n",
        "newnode=TreeNode(\"hello\")\n",
        "s=insertNode(newbt,newnode)\n",
        "print(s)\n",
        "levelOrderTraversal(newbt)\n",
        "\n",
        "\n"
      ],
      "execution_count": 35,
      "outputs": [
        {
          "output_type": "stream",
          "text": [
            "Success inserted\n",
            "Drinks\n",
            "hot\n",
            "hello\n",
            "a\n",
            "b\n"
          ],
          "name": "stdout"
        }
      ]
    },
    {
      "cell_type": "code",
      "metadata": {
        "id": "5KBVF_YsgnPY"
      },
      "source": [
        "def getdeepestNode(rootnode):\n",
        "  if not rootnode:\n",
        "    return \n",
        "  else:\n",
        "    q=queue()\n",
        "    q.enqueue(rootnode) \n",
        "    while not (q.is_empty()):\n",
        "      root=q.dequeue()\n",
        "      if root.leftchild:\n",
        "        q.enqueue(root.leftchild)\n",
        "      if root.rightchild:\n",
        "        q.enqueue(root.rightchild)  \n",
        "    deepestNode=root.data\n",
        "    return deepestNode  \n",
        "\n",
        "def deletDeepestNode(rootnode,deepestNode):\n",
        "  if not rootnode:\n",
        "    return\n",
        "  else:\n",
        "    q=queue()\n",
        "    q.enqueue(rootnode)  \n",
        "    while not (q.is_empty()):\n",
        "        root=q.dequeue()\n",
        "        if root.data==deepestNode:\n",
        "          root.data=None\n",
        "          return \n",
        "        if root.rightchild:\n",
        "          if root.rightchild.data==deepestNode:\n",
        "            root.rightchild=None\n",
        "            return\n",
        "          else:\n",
        "            q.enqueue(root.rightchild)\n",
        "\n",
        "        if root.leftchild:\n",
        "          if root.leftchild.data==deepestNode:\n",
        "            root.leftchild=None\n",
        "            return\n",
        "          else:\n",
        "            q.enqueue(root.leftchild) \n",
        "\n",
        "    # return \"None present node\"            \n",
        "            \n",
        "\n",
        "\n",
        "\n",
        "\n"
      ],
      "execution_count": null,
      "outputs": []
    },
    {
      "cell_type": "code",
      "metadata": {
        "id": "bNo1mAebi1OP"
      },
      "source": [
        "deep=getdeepestNode(newbt)\n",
        "deletDeepestNode(newbt,deep)\n"
      ],
      "execution_count": 37,
      "outputs": []
    },
    {
      "cell_type": "code",
      "metadata": {
        "colab": {
          "base_uri": "https://localhost:8080/",
          "height": 35
        },
        "id": "sEULZBuvxLdS",
        "outputId": "e2c4f0d4-10d8-4213-cabe-2f63a7bd2e28"
      },
      "source": [
        "deep"
      ],
      "execution_count": 39,
      "outputs": [
        {
          "output_type": "execute_result",
          "data": {
            "application/vnd.google.colaboratory.intrinsic+json": {
              "type": "string"
            },
            "text/plain": [
              "'b'"
            ]
          },
          "metadata": {
            "tags": []
          },
          "execution_count": 39
        }
      ]
    },
    {
      "cell_type": "code",
      "metadata": {
        "colab": {
          "base_uri": "https://localhost:8080/"
        },
        "id": "9Isx104Wf98N",
        "outputId": "817f8f53-824a-40bb-a55b-d8f796c34039"
      },
      "source": [
        "levelOrderTraversal(newbt)\n"
      ],
      "execution_count": 42,
      "outputs": [
        {
          "output_type": "stream",
          "text": [
            "Drinks\n",
            "hot\n",
            "a\n"
          ],
          "name": "stdout"
        }
      ]
    },
    {
      "cell_type": "code",
      "metadata": {
        "id": "5XZ3b_j3gDkT"
      },
      "source": [
        "def deletNode(rootnode,node):\n",
        "  if not rootnode:\n",
        "    return \"not exist\"\n",
        "  else:\n",
        "    q=queue()\n",
        "    q.enqueue(rootnode)\n",
        "\n",
        "    while not (q.is_empty()):\n",
        "      root=q.dequeue()\n",
        "      if root.data==node:\n",
        "        deepnode=getdeepestNode(rootnode)\n",
        "        root.data=deepnode\n",
        "        deletDeepestNode(rootnode,deepnode)\n",
        "        return \"Delet successfully\"\n",
        "\n",
        "      if root.leftchild:\n",
        "        q.enqueue(root.leftchild)\n",
        "\n",
        "      if root.rightchild:\n",
        "        q.enqueue(root.rightchild)   \n",
        "\n",
        "    return \"failed to delet\"     \n",
        "  "
      ],
      "execution_count": 40,
      "outputs": []
    },
    {
      "cell_type": "code",
      "metadata": {
        "colab": {
          "base_uri": "https://localhost:8080/",
          "height": 35
        },
        "id": "rYav067djj2d",
        "outputId": "d22378d3-ff83-4298-b785-a506660755b2"
      },
      "source": [
        "deletNode(newbt,\"hello\")"
      ],
      "execution_count": 41,
      "outputs": [
        {
          "output_type": "execute_result",
          "data": {
            "application/vnd.google.colaboratory.intrinsic+json": {
              "type": "string"
            },
            "text/plain": [
              "'Delet successfully'"
            ]
          },
          "metadata": {
            "tags": []
          },
          "execution_count": 41
        }
      ]
    },
    {
      "cell_type": "code",
      "metadata": {
        "id": "XYm-oSgxxcJY"
      },
      "source": [
        "# delet intire binary tree\n",
        "def deletBT(rootnode):\n",
        "  rootnode.data=None\n",
        "  rootnode.leftchild=None\n",
        "  rootnode.rightchild=None\n",
        "  "
      ],
      "execution_count": 45,
      "outputs": []
    },
    {
      "cell_type": "markdown",
      "metadata": {
        "id": "2O6dkJhHyujD"
      },
      "source": [
        "**Creating Binary tree using python list**"
      ]
    },
    {
      "cell_type": "code",
      "metadata": {
        "id": "M-JW4evcy0XF"
      },
      "source": [
        "class BinaryTree:\n",
        "  def __init__(self,size):\n",
        "    self.customlist=size*[None]\n",
        "    self.lastusedindex=0\n",
        "    self.maxsize=size\n",
        "\n",
        "# insert a node in levelorder\n",
        "  def insertNode(self,value):\n",
        "    if (self.lastusedindex)+1 == self.maxsize:\n",
        "      return \"Binary tree is full\"\n",
        "    self.customlist[self.lastusedindex+1]=value #----o(1)\n",
        "    self.lastusedindex+=1 #------o(1)\n",
        "    return \"value is successfully added\"\n",
        "    # space complexity is also one because we don't perform any operation only perform update in custom list\n",
        "\n",
        "# searching an node in binary tree\n",
        "  def searchNode(self,node):\n",
        "    for i in range(1,self.maxsize):\n",
        "      if self.customlist[i]==node:\n",
        "        return \"Present the node\"\n",
        "    return \"Not found\" \n",
        "\n",
        "# preorder traversal---root---left---right\n",
        "  def preOrderTraversal(self,index):\n",
        "    if index > self.lastusedindex:\n",
        "      return\n",
        "    print(self.customlist[index])\n",
        "    self.preOrderTraversal(index*2)\n",
        "    self.preOrderTraversal((index*2)+1)   \n",
        "\n",
        "# inorder traversal\n",
        "  def inOrderTraversal(self,index):\n",
        "    if index > self.lastusedindex:\n",
        "      return\n",
        "    self.inOrderTraversal(index*2)\n",
        "\n",
        "    print(self.customlist[index])\n",
        "    self.inOrderTraversal((index*2)+1)   \n",
        "\n",
        "# inorder traversal\n",
        "  def postOrderTraversal(self,index):\n",
        "    if index > self.lastusedindex:\n",
        "      return\n",
        "    self.postOrderTraversal(index*2)\n",
        "    self.postOrderTraversal((index*2)+1) \n",
        "    print(self.customlist[index])\n",
        "\n",
        "# leveloreder\n",
        "  def levelOrderTraversal(self):\n",
        "    \n",
        "    for i in range(1,self.lastusedindex+1):\n",
        "      print(self.customlist[i])\n",
        "\n",
        "#delet the node\n",
        "  def deletNode(self,node):\n",
        "    if self.lastusedindex==0:\n",
        "      return \"There is not any item to delet\"\n",
        "\n",
        "    for i in range(1,self.lastusedindex+1):\n",
        "      if self.customlist[i]==node:\n",
        "        self.customlist[i]=self.customlist[self.lastusedindex]\n",
        "        self.customlist[self.lastusedindex]=None\n",
        "        self.lastusedindex-=1\n",
        "        return \"Node is deleted\"\n",
        "\n",
        "#delet intire BT\n",
        "  def deletBT(self):\n",
        "    self.customlist=None\n",
        "    return \"deleted Binary tree\"\n",
        "\n"
      ],
      "execution_count": 86,
      "outputs": []
    },
    {
      "cell_type": "code",
      "metadata": {
        "colab": {
          "base_uri": "https://localhost:8080/"
        },
        "id": "AnMK52I82xNX",
        "outputId": "f8498087-9f7a-4f6b-ed62-41a7b49a919e"
      },
      "source": [
        "newbt=BinaryTree(8)\n",
        "newbt.insertNode(\"Drink\")\n",
        "newbt.insertNode(\"hot\")\n",
        "newbt.insertNode(\"cold\")\n",
        "newbt.insertNode(\"coffie\")\n",
        "newbt.insertNode(4)\n",
        "newbt.insertNode(24)\n",
        "\n",
        "# print(newbt.customlist)\n",
        "# print(newbt.searchNode(0))\n",
        "# newbt.preOrderTraversal(1)\n",
        "# print()\n",
        "# newbt.inOrderTraversal(1)\n",
        "# print()\n",
        "# newbt.postOrderTraversal(1)\n",
        "# print()\n",
        "# newbt.levelOrderTraversal(1)\n",
        "print()\n",
        "print(newbt.deletNode(\"hot\"))"
      ],
      "execution_count": 88,
      "outputs": [
        {
          "output_type": "stream",
          "text": [
            "\n",
            "Node is deleted\n"
          ],
          "name": "stdout"
        }
      ]
    }
  ]
}