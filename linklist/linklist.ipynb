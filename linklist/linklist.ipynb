{
 "cells": [
  {
   "cell_type": "code",
   "execution_count": 1,
   "metadata": {},
   "outputs": [],
   "source": [
    "class Node:\n",
    "    def __init__(self,data):\n",
    "        self.data=data\n",
    "        self.next=None\n",
    "        \n",
    "        "
   ]
  },
  {
   "cell_type": "code",
   "execution_count": 2,
   "metadata": {},
   "outputs": [],
   "source": [
    "a=Node(13)"
   ]
  },
  {
   "cell_type": "code",
   "execution_count": 5,
   "metadata": {},
   "outputs": [
    {
     "name": "stdout",
     "output_type": "stream",
     "text": [
      "13\n"
     ]
    }
   ],
   "source": [
    "print(a.data)"
   ]
  },
  {
   "cell_type": "code",
   "execution_count": 6,
   "metadata": {},
   "outputs": [],
   "source": [
    "b=Node(10)"
   ]
  },
  {
   "cell_type": "code",
   "execution_count": 7,
   "metadata": {},
   "outputs": [],
   "source": [
    "a.next=b\n",
    "print(a.next.data)"
   ]
  },
  {
   "cell_type": "raw",
   "metadata": {},
   "source": [
    "Takeinput of linklist"
   ]
  },
  {
   "cell_type": "code",
   "execution_count": 36,
   "metadata": {},
   "outputs": [],
   "source": [
    "# print length of linklist\n",
    "def printLL(head):\n",
    "    while head is not None:\n",
    "        print(str(head.data)+\"->\",end=\" \")\n",
    "        head=head.next\n",
    "        \n",
    "    print(\"None\")    \n",
    "    return\n",
    "\n",
    "def lengthll(head):\n",
    "    count=0\n",
    "    while head is not None:\n",
    "        count=count+1\n",
    "        head=head.next\n",
    "    return count    \n",
    "\n",
    "\n",
    "def takeInput():\n",
    "    InputList=[int(ele) for ele in input().split()]\n",
    "    head=None\n",
    "    for currData in InputList:\n",
    "        if currData==-1:\n",
    "            break\n",
    "        newNode=Node(currData)    \n",
    "        if head is None:\n",
    "            head=newNode\n",
    "        else:\n",
    "            curr=head\n",
    "            while curr.next is not None:\n",
    "                curr=curr.next\n",
    "            curr.next=newNode\n",
    "            \n",
    "#             here waste of time to iterate for finding last position of element\n",
    "    return head\n",
    "            \n",
    "# time complexicity of it is o(n^2)   \n",
    "# this is not good approach\n",
    "\n",
    "def takeInput2():\n",
    "    InputList=[int(ele) for ele in input().split()]\n",
    "    head=tail=None\n",
    "    for currData in InputList:\n",
    "        if currData==-1:\n",
    "            break\n",
    "        newNode=Node(currData)    \n",
    "        if head is None:\n",
    "            head=tail=newNode\n",
    "        else:\n",
    "            tail.next=newNode\n",
    "            tail=tail.next\n",
    "            \n",
    "    return head\n",
    "            \n",
    "# time complexicity of it is o(n)"
   ]
  },
  {
   "cell_type": "code",
   "execution_count": 20,
   "metadata": {},
   "outputs": [
    {
     "name": "stdout",
     "output_type": "stream",
     "text": [
      "2 3 4 6 8 10 -1\n"
     ]
    }
   ],
   "source": [
    "head=takeInput2()"
   ]
  },
  {
   "cell_type": "code",
   "execution_count": 16,
   "metadata": {},
   "outputs": [
    {
     "name": "stdout",
     "output_type": "stream",
     "text": [
      "3\n"
     ]
    }
   ],
   "source": [
    "print(head.next.data)"
   ]
  },
  {
   "cell_type": "code",
   "execution_count": 21,
   "metadata": {},
   "outputs": [
    {
     "name": "stdout",
     "output_type": "stream",
     "text": [
      "2-> 3-> 4-> 6-> 8-> 10-> None\n"
     ]
    }
   ],
   "source": [
    "printLL(head)"
   ]
  },
  {
   "cell_type": "code",
   "execution_count": 37,
   "metadata": {},
   "outputs": [],
   "source": [
    "def printIth(head,i):\n",
    "    length=lengthll(head)\n",
    "    if i<0 or i>length:\n",
    "        print(\"index is not present in ll\")\n",
    "        return\n",
    "    count=0    \n",
    "    while count!=i:\n",
    "        count=count+1\n",
    "        head=head.next\n",
    "        \n",
    "    print(head.data)   \n",
    "    return\n",
    "  "
   ]
  },
  {
   "cell_type": "code",
   "execution_count": 42,
   "metadata": {},
   "outputs": [
    {
     "name": "stdout",
     "output_type": "stream",
     "text": [
      "index is not present in ll\n"
     ]
    }
   ],
   "source": [
    "printIth(head,10)"
   ]
  },
  {
   "cell_type": "code",
   "execution_count": 43,
   "metadata": {},
   "outputs": [],
   "source": [
    "# insert element in ith index\n",
    "# ----------Iterative solution------------\n",
    "def insertAtI(head,i,data):\n",
    "    if i<0 or i>lengthll(head):\n",
    "        return head\n",
    "    count=0\n",
    "    newNode=Node(data)\n",
    "    curr=head\n",
    "    prev=None\n",
    "    while count<i: \n",
    "        prev=curr\n",
    "        curr=curr.next\n",
    "        count=count+1\n",
    "    if prev is not None:\n",
    "        prev.next=newNode\n",
    "    else:\n",
    "        head=newNode\n",
    "    newNode.next=curr\n",
    "    return head\n",
    "# -------------------Recursively-------------------\n",
    "\n",
    "\n",
    "\n",
    "\n",
    "\n",
    "\n",
    "\n",
    "\n",
    "\n",
    "\n"
   ]
  },
  {
   "cell_type": "code",
   "execution_count": 44,
   "metadata": {},
   "outputs": [
    {
     "name": "stdout",
     "output_type": "stream",
     "text": [
      "2-> 3-> 4-> 6-> 8-> 10-> None\n",
      "2-> 3-> 100-> 4-> 6-> 8-> 10-> None\n"
     ]
    }
   ],
   "source": [
    "printLL(head)\n",
    "insertAtI(head,2,100)\n",
    "printLL(head)"
   ]
  },
  {
   "cell_type": "code",
   "execution_count": null,
   "metadata": {},
   "outputs": [],
   "source": []
  },
  {
   "cell_type": "code",
   "execution_count": null,
   "metadata": {},
   "outputs": [],
   "source": []
  }
 ],
 "metadata": {
  "kernelspec": {
   "display_name": "Python 3",
   "language": "python",
   "name": "python3"
  },
  "language_info": {
   "codemirror_mode": {
    "name": "ipython",
    "version": 3
   },
   "file_extension": ".py",
   "mimetype": "text/x-python",
   "name": "python",
   "nbconvert_exporter": "python",
   "pygments_lexer": "ipython3",
   "version": "3.7.4"
  }
 },
 "nbformat": 4,
 "nbformat_minor": 2
}
